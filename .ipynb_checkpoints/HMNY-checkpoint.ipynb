{
 "cells": [
  {
   "cell_type": "code",
   "execution_count": 23,
   "metadata": {},
   "outputs": [],
   "source": [
    "# Dependencies\n",
    "import requests\n",
    "import json\n",
    "import statistics\n",
    "import pandas as pd\n",
    "import matplotlib.pyplot as plt\n",
    "import numpy as np"
   ]
  },
  {
   "cell_type": "code",
   "execution_count": 24,
   "metadata": {},
   "outputs": [],
   "source": [
    "# URL for GET requests to retrieve vehicle data\n",
    "ticker = \"HMNY\"\n",
    "\n",
    "url = \"https://api.iextrading.com/1.0/stock/\"\n",
    "duration = \"/chart/3m\""
   ]
  },
  {
   "cell_type": "code",
   "execution_count": 25,
   "metadata": {},
   "outputs": [],
   "source": [
    "# Pretty print JSON for all launchpads\n",
    "response = requests.get(url+ticker+duration).json()\n",
    "#print(json.dumps(response, indent=4, sort_keys=True))\n"
   ]
  },
  {
   "cell_type": "code",
   "execution_count": 26,
   "metadata": {
    "scrolled": true
   },
   "outputs": [
    {
     "name": "stdout",
     "output_type": "stream",
     "text": [
      "[47.65, 46.225, 47.15, 47.925, 44.25, 45.75, 37.5]\n",
      "[27.75, 29.5, 27.975, 27, 25.3, 24.45, 21.25]\n",
      "[10.6, 6.83, 2, 0.8, 0.496, 0.228, 0.1]\n",
      "[0.07, 0.0834, 0.07, 0.0675, 0.0624, 0.05, 0.05]\n",
      "[0.05, 0.048, 0.03, 0.029, 0.0298, 0.0299, 0.03]\n",
      "[0.0202, 0.0186, 0.022, 0.0208, 0.0193, 0.0207, 0.0216]\n",
      "[0.024, 0.0265, 0.0225, 0.0235, 0.0211, 0.0205, 0.0215]\n",
      "[0.0218, 0.0214, 0.0155, 0.0124, 0.013, 0.0148, 0.014]\n",
      "[0.0177, 0.0186, 0.0173, 0.0154, 0.0151, 0.0146, 0.0133]\n",
      "No value\n",
      "No value\n",
      "No value\n",
      "No value\n",
      "[0.0365, 0.021, 0.0199]\n",
      "[45.207142857142856, 26.175, 3.0077142857142856, 0.06475714285714286, 0.035242857142857145, 0.020457142857142858, 0.0228, 0.01612857142857143, 0.016, 0.0258]\n"
     ]
    }
   ],
   "source": [
    "\n",
    "#7 day moving average\n",
    "\n",
    "week_counter = 0 \n",
    "avg_counter = 0\n",
    "series1 = 10\n",
    "series2 = 7\n",
    "count = 0  \n",
    "moving_avg =[]\n",
    "\n",
    "\n",
    "\n",
    "for x in range(series1):\n",
    "    \n",
    "        close = []\n",
    "        \n",
    "        for y in range(series2):\n",
    "            try:\n",
    "                close.append(response[count]['close'])\n",
    "                #print(close)\n",
    "                count = count +1\n",
    "            \n",
    "            except:\n",
    "                print(\"No value\")    \n",
    "        print(close) \n",
    "        avg = statistics.mean(close)   \n",
    "        moving_avg.append(avg)\n",
    "\n",
    "print(moving_avg)"
   ]
  },
  {
   "cell_type": "code",
   "execution_count": 27,
   "metadata": {},
   "outputs": [
    {
     "data": {
      "text/html": [
       "<div>\n",
       "<style scoped>\n",
       "    .dataframe tbody tr th:only-of-type {\n",
       "        vertical-align: middle;\n",
       "    }\n",
       "\n",
       "    .dataframe tbody tr th {\n",
       "        vertical-align: top;\n",
       "    }\n",
       "\n",
       "    .dataframe thead th {\n",
       "        text-align: right;\n",
       "    }\n",
       "</style>\n",
       "<table border=\"1\" class=\"dataframe\">\n",
       "  <thead>\n",
       "    <tr style=\"text-align: right;\">\n",
       "      <th></th>\n",
       "      <th>Moving Average</th>\n",
       "    </tr>\n",
       "  </thead>\n",
       "  <tbody>\n",
       "    <tr>\n",
       "      <th>0</th>\n",
       "      <td>45.207143</td>\n",
       "    </tr>\n",
       "    <tr>\n",
       "      <th>1</th>\n",
       "      <td>26.175000</td>\n",
       "    </tr>\n",
       "    <tr>\n",
       "      <th>2</th>\n",
       "      <td>3.007714</td>\n",
       "    </tr>\n",
       "    <tr>\n",
       "      <th>3</th>\n",
       "      <td>0.064757</td>\n",
       "    </tr>\n",
       "    <tr>\n",
       "      <th>4</th>\n",
       "      <td>0.035243</td>\n",
       "    </tr>\n",
       "    <tr>\n",
       "      <th>5</th>\n",
       "      <td>0.020457</td>\n",
       "    </tr>\n",
       "    <tr>\n",
       "      <th>6</th>\n",
       "      <td>0.022800</td>\n",
       "    </tr>\n",
       "    <tr>\n",
       "      <th>7</th>\n",
       "      <td>0.016129</td>\n",
       "    </tr>\n",
       "    <tr>\n",
       "      <th>8</th>\n",
       "      <td>0.016000</td>\n",
       "    </tr>\n",
       "    <tr>\n",
       "      <th>9</th>\n",
       "      <td>0.025800</td>\n",
       "    </tr>\n",
       "  </tbody>\n",
       "</table>\n",
       "</div>"
      ],
      "text/plain": [
       "   Moving Average\n",
       "0       45.207143\n",
       "1       26.175000\n",
       "2        3.007714\n",
       "3        0.064757\n",
       "4        0.035243\n",
       "5        0.020457\n",
       "6        0.022800\n",
       "7        0.016129\n",
       "8        0.016000\n",
       "9        0.025800"
      ]
     },
     "execution_count": 27,
     "metadata": {},
     "output_type": "execute_result"
    }
   ],
   "source": [
    "summary = pd.DataFrame({\"Moving Average\": moving_avg})\n",
    "summary"
   ]
  },
  {
   "cell_type": "code",
   "execution_count": 28,
   "metadata": {},
   "outputs": [
    {
     "data": {
      "image/png": "[encoded data removed]",
      "text/plain": [
       "<Figure size 432x288 with 1 Axes>"
      ]
     },
     "metadata": {},
     "output_type": "display_data"
    }
   ],
   "source": [
    "\n",
    "#graph properties\n",
    "plt.xlabel(\"Moving Average\")\n",
    "plt.ylabel(\"Price ($)\")\n",
    "plt.title(f\"Ticker:{ticker} 7 Day Moving Average\")\n",
    "plt.grid()\n",
    "\n",
    "#graph\n",
    "plt.xlim([0,series1])\n",
    "plt.plot(moving_avg, marker=\"o\", color=\"orange\", linewidth=1)\n",
    "plt.show()"
   ]
  },
  {
   "cell_type": "code",
   "execution_count": null,
   "metadata": {},
   "outputs": [],
   "source": []
  }
 ],
 "metadata": {
  "kernelspec": {
   "display_name": "Python 3",
   "language": "python",
   "name": "python3"
  },
  "language_info": {
   "codemirror_mode": {
    "name": "ipython",
    "version": 3
   },
   "file_extension": ".py",
   "mimetype": "text/x-python",
   "name": "python",
   "nbconvert_exporter": "python",
   "pygments_lexer": "ipython3",
   "version": "3.6.5"
  }
 },
 "nbformat": 4,
 "nbformat_minor": 2
}
