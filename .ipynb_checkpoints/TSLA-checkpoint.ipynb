{
 "cells": [
  {
   "cell_type": "code",
   "execution_count": 1,
   "metadata": {},
   "outputs": [],
   "source": [
    "# Dependencies\n",
    "import requests\n",
    "import json\n",
    "import statistics\n",
    "import pandas as pd\n",
    "import matplotlib.pyplot as plt\n",
    "import numpy as np"
   ]
  },
  {
   "cell_type": "code",
   "execution_count": 2,
   "metadata": {},
   "outputs": [],
   "source": [
    "# URL for GET requests to retrieve vehicle data\n",
    "ticker = \"TSLA\"\n",
    "\n",
    "url = \"https://api.iextrading.com/1.0/stock/\"\n",
    "duration = \"/chart/3m\""
   ]
  },
  {
   "cell_type": "code",
   "execution_count": 3,
   "metadata": {},
   "outputs": [],
   "source": [
    "# Pretty print JSON for all launchpads\n",
    "response = requests.get(url+ticker+duration).json()\n",
    "#print(json.dumps(response, indent=4, sort_keys=True))\n"
   ]
  },
  {
   "cell_type": "code",
   "execution_count": 4,
   "metadata": {
    "scrolled": true
   },
   "outputs": [
    {
     "name": "stdout",
     "output_type": "stream",
     "text": [
      "[309.16, 308.9, 318.51, 322.47, 318.96, 316.71, 318.87]\n",
      "[310.1, 322.69, 323.85, 320.23, 313.58, 303.2, 297.43]\n",
      "[308.74, 306.65, 297.18, 290.17, 298.14, 300.84, 349.54]\n",
      "[348.17, 341.99, 379.57, 370.34, 352.45, 355.49, 356.41]\n",
      "[347.64, 338.69, 335.45, 305.5, 308.44, 321.9, 321.64]\n",
      "[320.1, 322.82, 319.27, 311.86, 305.01, 303.15, 301.66]\n",
      "[288.95, 280.74, 280.95, 263.24, 285.5, 279.44, 290.54]\n",
      "[289.46, 295.2, 294.84, 284.96, 299.02, 298.33, 299.1]\n",
      "[299.68, 300.99, 309.58, 307.52, 264.77, 310.7, 301.02]\n",
      "No value\n",
      "No value\n",
      "No value\n",
      "No value\n",
      "[294.8, 281.83, 261.95]\n",
      "[316.2257142857143, 313.01142857142855, 307.3228571428571, 357.7742857142857, 325.6085714285714, 311.9814285714286, 281.33714285714285, 294.4157142857143, 299.18, 279.52666666666664]\n"
     ]
    }
   ],
   "source": [
    "\n",
    "#7 day moving average\n",
    "\n",
    "week_counter = 0 \n",
    "avg_counter = 0\n",
    "series1 = 10\n",
    "series2 = 7\n",
    "count = 0  \n",
    "moving_avg =[]\n",
    "\n",
    "\n",
    "\n",
    "for x in range(series1):\n",
    "    \n",
    "        close = []\n",
    "        \n",
    "        for y in range(series2):\n",
    "            try:\n",
    "                close.append(response[count]['close'])\n",
    "                #print(close)\n",
    "                count = count +1\n",
    "            \n",
    "            except:\n",
    "                print(\"No value\")    \n",
    "        print(close) \n",
    "        avg = statistics.mean(close)   \n",
    "        moving_avg.append(avg)\n",
    "\n",
    "print(moving_avg)"
   ]
  },
  {
   "cell_type": "code",
   "execution_count": 5,
   "metadata": {},
   "outputs": [
    {
     "data": {
      "text/html": [
       "<div>\n",
       "<style scoped>\n",
       "    .dataframe tbody tr th:only-of-type {\n",
       "        vertical-align: middle;\n",
       "    }\n",
       "\n",
       "    .dataframe tbody tr th {\n",
       "        vertical-align: top;\n",
       "    }\n",
       "\n",
       "    .dataframe thead th {\n",
       "        text-align: right;\n",
       "    }\n",
       "</style>\n",
       "<table border=\"1\" class=\"dataframe\">\n",
       "  <thead>\n",
       "    <tr style=\"text-align: right;\">\n",
       "      <th></th>\n",
       "      <th>Moving Average</th>\n",
       "    </tr>\n",
       "  </thead>\n",
       "  <tbody>\n",
       "    <tr>\n",
       "      <th>0</th>\n",
       "      <td>316.225714</td>\n",
       "    </tr>\n",
       "    <tr>\n",
       "      <th>1</th>\n",
       "      <td>313.011429</td>\n",
       "    </tr>\n",
       "    <tr>\n",
       "      <th>2</th>\n",
       "      <td>307.322857</td>\n",
       "    </tr>\n",
       "    <tr>\n",
       "      <th>3</th>\n",
       "      <td>357.774286</td>\n",
       "    </tr>\n",
       "    <tr>\n",
       "      <th>4</th>\n",
       "      <td>325.608571</td>\n",
       "    </tr>\n",
       "    <tr>\n",
       "      <th>5</th>\n",
       "      <td>311.981429</td>\n",
       "    </tr>\n",
       "    <tr>\n",
       "      <th>6</th>\n",
       "      <td>281.337143</td>\n",
       "    </tr>\n",
       "    <tr>\n",
       "      <th>7</th>\n",
       "      <td>294.415714</td>\n",
       "    </tr>\n",
       "    <tr>\n",
       "      <th>8</th>\n",
       "      <td>299.180000</td>\n",
       "    </tr>\n",
       "    <tr>\n",
       "      <th>9</th>\n",
       "      <td>279.526667</td>\n",
       "    </tr>\n",
       "  </tbody>\n",
       "</table>\n",
       "</div>"
      ],
      "text/plain": [
       "   Moving Average\n",
       "0      316.225714\n",
       "1      313.011429\n",
       "2      307.322857\n",
       "3      357.774286\n",
       "4      325.608571\n",
       "5      311.981429\n",
       "6      281.337143\n",
       "7      294.415714\n",
       "8      299.180000\n",
       "9      279.526667"
      ]
     },
     "execution_count": 5,
     "metadata": {},
     "output_type": "execute_result"
    }
   ],
   "source": [
    "summary = pd.DataFrame({\"Moving Average\": moving_avg})\n",
    "summary"
   ]
  },
  {
   "cell_type": "code",
   "execution_count": 6,
   "metadata": {},
   "outputs": [
    {
     "data": {
      "image/png": "[encoded data removed]",
      "text/plain": [
       "<Figure size 432x288 with 1 Axes>"
      ]
     },
     "metadata": {},
     "output_type": "display_data"
    }
   ],
   "source": [
    "\n",
    "#graph properties\n",
    "plt.xlabel(\"Moving Average\")\n",
    "plt.ylabel(\"Price ($)\")\n",
    "plt.title(f\"Ticker:{ticker} 7 Day Moving Average\")\n",
    "plt.grid()\n",
    "\n",
    "#graph\n",
    "plt.xlim([0,series1])\n",
    "plt.plot(moving_avg, marker=\"o\", color=\"orange\", linewidth=1)\n",
    "plt.show()"
   ]
  },
  {
   "cell_type": "code",
   "execution_count": null,
   "metadata": {},
   "outputs": [],
   "source": []
  }
 ],
 "metadata": {
  "kernelspec": {
   "display_name": "Python 3",
   "language": "python",
   "name": "python3"
  },
  "language_info": {
   "codemirror_mode": {
    "name": "ipython",
    "version": 3
   },
   "file_extension": ".py",
   "mimetype": "text/x-python",
   "name": "python",
   "nbconvert_exporter": "python",
   "pygments_lexer": "ipython3",
   "version": "3.6.5"
  }
 },
 "nbformat": 4,
 "nbformat_minor": 2
}
