{
 "cells": [
  {
   "cell_type": "code",
   "execution_count": 1,
   "metadata": {},
   "outputs": [],
   "source": [
    "# Dependencies\n",
    "import requests\n",
    "import json\n",
    "import statistics\n",
    "import pandas as pd\n",
    "import matplotlib.pyplot as plt\n",
    "import numpy as np"
   ]
  },
  {
   "cell_type": "code",
   "execution_count": 2,
   "metadata": {},
   "outputs": [],
   "source": [
    "# URL for GET requests to retrieve vehicle data\n",
    "ticker = \"AAPL\"\n",
    "\n",
    "url = \"https://api.iextrading.com/1.0/stock/\"\n",
    "duration = \"/chart/3m\""
   ]
  },
  {
   "cell_type": "code",
   "execution_count": 3,
   "metadata": {},
   "outputs": [],
   "source": [
    "# Pretty print JSON for all launchpads\n",
    "response = requests.get(url+ticker+duration).json()\n",
    "#print(json.dumps(response, indent=4, sort_keys=True))\n"
   ]
  },
  {
   "cell_type": "code",
   "execution_count": 4,
   "metadata": {
    "scrolled": true
   },
   "outputs": [
    {
     "name": "stdout",
     "output_type": "stream",
     "text": [
      "[189.9139, 189.6847, 187.2234, 190.3623, 190.6613, 190.2428, 190.7809]\n",
      "[189.7346, 191.2094, 190.7709, 190.9403, 192.3255, 194.1391, 193.5312]\n",
      "[190.3125, 189.2463, 189.6249, 200.7958, 206.6652, 207.2631, 208.3393]\n",
      "[206.3862, 206.5257, 208.15, 207.53, 208.87, 209.75, 210.24]\n",
      "[213.32, 217.58, 215.46, 215.04, 215.05, 215.49, 216.16]\n",
      "[217.94, 219.7, 222.98, 225.03, 227.63, 228.36, 226.87]\n",
      "[223.1, 221.3, 218.33, 223.85, 221.07, 226.41, 223.84]\n",
      "[217.88, 218.24, 218.37, 220.03, 217.66, 220.79, 222.19]\n",
      "[220.42, 224.95, 225.74, 227.26, 229.28, 232.07, 227.99]\n",
      "No value\n",
      "No value\n",
      "No value\n",
      "No value\n",
      "[224.29, 223.77, 226.87]\n",
      "[189.83847142857144, 191.8072857142857, 198.89244285714287, 208.2074142857143, 215.44285714285715, 224.07285714285715, 222.55714285714285, 219.30857142857144, 226.81571428571428, 224.97666666666666]\n"
     ]
    }
   ],
   "source": [
    "\n",
    "#7 day moving average\n",
    "\n",
    "week_counter = 0 \n",
    "avg_counter = 0\n",
    "series1 = 10\n",
    "series2 = 7\n",
    "count = 0  \n",
    "moving_avg =[]\n",
    "\n",
    "\n",
    "\n",
    "for x in range(series1):\n",
    "    \n",
    "        close = []\n",
    "        \n",
    "        for y in range(series2):\n",
    "            try:\n",
    "                close.append(response[count]['close'])\n",
    "                #print(close)\n",
    "                count = count +1\n",
    "            \n",
    "            except:\n",
    "                print(\"No value\")    \n",
    "        print(close) \n",
    "        avg = statistics.mean(close)   \n",
    "        moving_avg.append(avg)\n",
    "\n",
    "print(moving_avg)"
   ]
  },
  {
   "cell_type": "code",
   "execution_count": 5,
   "metadata": {},
   "outputs": [
    {
     "data": {
      "text/html": [
       "<div>\n",
       "<style scoped>\n",
       "    .dataframe tbody tr th:only-of-type {\n",
       "        vertical-align: middle;\n",
       "    }\n",
       "\n",
       "    .dataframe tbody tr th {\n",
       "        vertical-align: top;\n",
       "    }\n",
       "\n",
       "    .dataframe thead th {\n",
       "        text-align: right;\n",
       "    }\n",
       "</style>\n",
       "<table border=\"1\" class=\"dataframe\">\n",
       "  <thead>\n",
       "    <tr style=\"text-align: right;\">\n",
       "      <th></th>\n",
       "      <th>Moving Average</th>\n",
       "    </tr>\n",
       "  </thead>\n",
       "  <tbody>\n",
       "    <tr>\n",
       "      <th>0</th>\n",
       "      <td>189.838471</td>\n",
       "    </tr>\n",
       "    <tr>\n",
       "      <th>1</th>\n",
       "      <td>191.807286</td>\n",
       "    </tr>\n",
       "    <tr>\n",
       "      <th>2</th>\n",
       "      <td>198.892443</td>\n",
       "    </tr>\n",
       "    <tr>\n",
       "      <th>3</th>\n",
       "      <td>208.207414</td>\n",
       "    </tr>\n",
       "    <tr>\n",
       "      <th>4</th>\n",
       "      <td>215.442857</td>\n",
       "    </tr>\n",
       "    <tr>\n",
       "      <th>5</th>\n",
       "      <td>224.072857</td>\n",
       "    </tr>\n",
       "    <tr>\n",
       "      <th>6</th>\n",
       "      <td>222.557143</td>\n",
       "    </tr>\n",
       "    <tr>\n",
       "      <th>7</th>\n",
       "      <td>219.308571</td>\n",
       "    </tr>\n",
       "    <tr>\n",
       "      <th>8</th>\n",
       "      <td>226.815714</td>\n",
       "    </tr>\n",
       "    <tr>\n",
       "      <th>9</th>\n",
       "      <td>224.976667</td>\n",
       "    </tr>\n",
       "  </tbody>\n",
       "</table>\n",
       "</div>"
      ],
      "text/plain": [
       "   Moving Average\n",
       "0      189.838471\n",
       "1      191.807286\n",
       "2      198.892443\n",
       "3      208.207414\n",
       "4      215.442857\n",
       "5      224.072857\n",
       "6      222.557143\n",
       "7      219.308571\n",
       "8      226.815714\n",
       "9      224.976667"
      ]
     },
     "execution_count": 5,
     "metadata": {},
     "output_type": "execute_result"
    }
   ],
   "source": [
    "summary = pd.DataFrame({\"Moving Average\": moving_avg})\n",
    "summary"
   ]
  },
  {
   "cell_type": "code",
   "execution_count": 6,
   "metadata": {},
   "outputs": [
    {
     "data": {
      "image/png": "[encoded data removed]",
      "text/plain": [
       "<Figure size 432x288 with 1 Axes>"
      ]
     },
     "metadata": {},
     "output_type": "display_data"
    }
   ],
   "source": [
    "\n",
    "#graph properties\n",
    "plt.xlabel(\"Moving Average\")\n",
    "plt.ylabel(\"Price ($)\")\n",
    "plt.title(f\"Ticker:{ticker} 7 Day Moving Average\")\n",
    "plt.grid()\n",
    "\n",
    "#graph\n",
    "plt.xlim([0,series1])\n",
    "plt.plot(moving_avg, marker=\"o\", color=\"orange\", linewidth=1)\n",
    "plt.show()"
   ]
  },
  {
   "cell_type": "code",
   "execution_count": null,
   "metadata": {},
   "outputs": [],
   "source": []
  }
 ],
 "metadata": {
  "kernelspec": {
   "display_name": "Python 3",
   "language": "python",
   "name": "python3"
  },
  "language_info": {
   "codemirror_mode": {
    "name": "ipython",
    "version": 3
   },
   "file_extension": ".py",
   "mimetype": "text/x-python",
   "name": "python",
   "nbconvert_exporter": "python",
   "pygments_lexer": "ipython3",
   "version": "3.6.5"
  }
 },
 "nbformat": 4,
 "nbformat_minor": 2
}
